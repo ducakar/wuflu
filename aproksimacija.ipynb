{
 "cells": [
  {
   "cell_type": "code",
   "execution_count": null,
   "metadata": {},
   "outputs": [],
   "source": [
    "import math\n",
    "import datetime as dt\n",
    "import matplotlib.pyplot as plt\n",
    "import matplotlib.colors as mc\n",
    "\n",
    "plt.rcParams[\"figure.figsize\"] = [9, 6]\n",
    "plt.rcParams[\"figure.dpi\"] = 96\n",
    "\n",
    "def lin_fit(yy):\n",
    "    \"\"\"Aproksimacija z linearno funkcijo po metodi najmanjših kvadratov.\"\"\"\n",
    "    \"\"\"https://mathworld.wolfram.com/LeastSquaresFitting.html\"\"\"\n",
    "    \"\"\"y = a + b * x\"\"\"\n",
    "    n = len(yy)\n",
    "    xx = [x for x in range(n)]\n",
    "\n",
    "    sum_x = sum(xx)\n",
    "    sum_y = sum(yy)\n",
    "    sum_x_2 = sum(x ** 2 for x in xx)\n",
    "    sum_x_y = sum(x * y for (x, y) in zip(xx, yy))\n",
    "\n",
    "    a = (sum_y * sum_x_2 - sum_x * sum_x_y) / (n * sum_x_2 - sum_x ** 2)\n",
    "    b = (n * sum_x_y - sum_x * sum_y) / (n * sum_x_2 - sum_x ** 2)\n",
    "    return a, b\n",
    "\n",
    "\n",
    "def exp_fit(yy):\n",
    "    \"\"\"Aproksimacija z eksponentno funkcijo po metodi najmanjših kvadratov.\"\"\"\n",
    "    \"\"\"https: // mathworld.wolfram.com/LeastSquaresFittingExponential.html\"\"\"\n",
    "    \"\"\"y = a * b^x\"\"\"\n",
    "    n = len(yy)\n",
    "    xx = [x for x in range(n)]\n",
    "\n",
    "    sum_x = sum(xx)\n",
    "    sum_x_2 = sum(x ** 2 for x in xx)\n",
    "    sum_log_y = sum(math.log(y) for y in yy)\n",
    "    sum_x_log_y = sum(x * math.log(y) for (x, y) in zip(xx, yy))\n",
    "\n",
    "    a = (sum_log_y * sum_x_2 - sum_x * sum_x_log_y) / (n * sum_x_2 - sum_x ** 2)\n",
    "    b = (n * sum_x_log_y - sum_x * sum_log_y) / (n * sum_x_2 - sum_x ** 2)\n",
    "    return math.exp(a), math.exp(b)"
   ]
  },
  {
   "cell_type": "code",
   "execution_count": null,
   "metadata": {},
   "outputs": [],
   "source": [
    "# https://www.nijz.si/sl/dnevno-spremljanje-okuzb-s-sars-cov-2-covid-19\n",
    "class Data:\n",
    "    infections = [\n",
    "        1,\n",
    "        6,\n",
    "        9,\n",
    "        13,\n",
    "        19,\n",
    "        29,\n",
    "        47,\n",
    "        77,\n",
    "        127,\n",
    "        174,\n",
    "        215,\n",
    "        247,\n",
    "        272,\n",
    "        283,\n",
    "        315,\n",
    "        339,\n",
    "        368,\n",
    "        402,\n",
    "        439,\n",
    "        478,\n",
    "        528,\n",
    "        577,\n",
    "        638,\n",
    "        691,\n",
    "        737,\n",
    "        763,\n",
    "        814,\n",
    "        855,\n",
    "        911,\n",
    "        948,\n",
    "        989,\n",
    "        1009,\n",
    "        1032,\n",
    "        1067,\n",
    "        1103,\n",
    "        1136,\n",
    "        1171,\n",
    "        1199,\n",
    "    ]\n",
    "    days = [dt.date(2020, 3, 4) + dt.timedelta(t) for t, _ in enumerate(infections)]"
   ]
  },
  {
   "cell_type": "markdown",
   "metadata": {},
   "source": [
    "Prikaz potrjenih okužb (logaritemska skala)."
   ]
  },
  {
   "cell_type": "code",
   "execution_count": null,
   "metadata": {},
   "outputs": [],
   "source": [
    "data = Data()\n",
    "infections = data.infections\n",
    "days = data.days\n",
    "_, ax = plt.subplots()\n",
    "ax.set_xticks(days)\n",
    "ax.set_xticklabels([\"{}.{}.\".format(d.day, d.month) for d in days])\n",
    "ax.set_yscale(\"log\")\n",
    "plt.plot(days, infections)\n",
    "plt.scatter(days, infections)\n",
    "plt.grid(axis=\"y\")\n",
    "plt.show()"
   ]
  },
  {
   "cell_type": "markdown",
   "metadata": {},
   "source": [
    "Vidimo, da nam graf razpade na tri bistveno različna obdobja. Od 5.3.--14.3. nam zelo strmo eksponentno narašča, nato polj položno, a še vedno eksponentno, okoli 28.3. pa se eksponentna rast konča. Aproksimirajmo vse te tri odseke z linearno (oranžna) in eksponentno (zelena) funkcijo."
   ]
  },
  {
   "cell_type": "code",
   "execution_count": null,
   "metadata": {},
   "outputs": [],
   "source": [
    "def approximate(begin, end):\n",
    "    data = Data()\n",
    "    infections = data.infections[begin:end]\n",
    "    days = data.days[begin:end]\n",
    "\n",
    "    lin_a, lin_b = lin_fit(infections)\n",
    "    exp_a, exp_b = exp_fit(infections)\n",
    "    predicted_lin = [lin_a + lin_b * t for t, _ in enumerate(infections)]\n",
    "    predicted_exp = [exp_a * exp_b ** t for t, _ in enumerate(infections)]\n",
    "\n",
    "    print(\"%.3g * %.3g^n\" % (exp_a, exp_b))\n",
    "\n",
    "    _, ax = plt.subplots()\n",
    "    ax.set_xticks(days)\n",
    "    ax.set_xticklabels([\"{}.{}.\".format(d.day, d.month) for d in days])\n",
    "#     ax.set_yscale(\"log\")\n",
    "    plt.plot(days, infections)\n",
    "    plt.plot(days, predicted_lin)\n",
    "    plt.plot(days, predicted_exp)\n",
    "    plt.scatter(days, infections)\n",
    "    plt.grid(axis=\"y\")\n",
    "    plt.show()"
   ]
  },
  {
   "cell_type": "code",
   "execution_count": null,
   "metadata": {},
   "outputs": [],
   "source": [
    "approximate(1, 10)\n",
    "approximate(10, 25)\n",
    "approximate(25, 38)"
   ]
  },
  {
   "cell_type": "markdown",
   "metadata": {},
   "source": [
    "Do 14.3. je naraščalo eksponentno s 54 % dnevnim prirastom, do 28.3. z 9 %, nato pa se je rast umirila in ni več eksponentna."
   ]
  }
 ],
 "metadata": {
  "kernelspec": {
   "display_name": "Python 3",
   "language": "python",
   "name": "python3"
  },
  "language_info": {
   "codemirror_mode": {
    "name": "ipython",
    "version": 3
   },
   "file_extension": ".py",
   "mimetype": "text/x-python",
   "name": "python",
   "nbconvert_exporter": "python",
   "pygments_lexer": "ipython3",
   "version": "3.8.2"
  }
 },
 "nbformat": 4,
 "nbformat_minor": 2
}
