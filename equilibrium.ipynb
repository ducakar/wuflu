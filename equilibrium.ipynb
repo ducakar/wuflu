{
 "cells": [
  {
   "cell_type": "markdown",
   "metadata": {},
   "source": [
    "$$ \\frac{dI}{dt} = \\beta I - \\gamma I, \\qquad \\frac{dM}{dt} = \\gamma (1-c) I - \\delta M, \\qquad \\frac{dC}{dt} = \\gamma c I - \\epsilon C $$\n",
    "$$ 0 = \\frac{dI}{dt} = (\\beta - \\gamma) I \\implies \\beta = \\gamma \\implies I = \\mathrm{konst.}, ~\\mathrm{recimo}~ I = 1 $$\n",
    "$$ 0 = \\frac{dM}{dt} = \\gamma (1-c) I - \\delta M \\implies \\gamma = \\frac{\\delta M}{1-c} $$\n",
    "$$ 0 = \\frac{dC}{dt} = \\gamma c I - \\epsilon C \\implies \\gamma = \\frac{\\epsilon C}{c} $$\n",
    "$$ \\gamma = \\frac{\\delta M}{1-c} = \\frac{\\epsilon C}{c} $$\n",
    "$$ \\frac M C = \\frac{\\epsilon}{\\delta}\\frac{1-c}{c} $$"
   ]
  },
  {
   "cell_type": "code",
   "execution_count": null,
   "metadata": {},
   "outputs": [],
   "source": [
    "delta = 1/10\n",
    "epsilon = 1/40\n",
    "c = 0.20"
   ]
  },
  {
   "cell_type": "code",
   "execution_count": null,
   "metadata": {},
   "outputs": [],
   "source": [
    "r = epsilon / delta * (1-c)/c\n",
    "M = r / (1+r)\n",
    "C = 1 / (1+r)\n",
    "gamma = epsilon * C / c\n",
    "print(\"M = %.3g, C = %.3g\" % (M, C))\n",
    "print(\"gamma = %.3g, delta = %.3g, epsilon = %.3g\" % (gamma, delta, epsilon))"
   ]
  },
  {
   "cell_type": "code",
   "execution_count": null,
   "metadata": {},
   "outputs": [],
   "source": [
    "import matplotlib.pyplot as plt\n",
    "\n",
    "plt.rcParams[\"figure.figsize\"] = [9, 6]\n",
    "plt.rcParams[\"figure.dpi\"] = 96\n",
    "\n",
    "ii, mm, cc = [1.0], [0.0], [0.0]\n",
    "for _ in range(1000):\n",
    "    di = 0\n",
    "    dm = gamma * (1-c) * ii[-1] - delta * mm[-1]\n",
    "    dc = gamma * c * ii[-1] - epsilon * cc[-1]\n",
    "    ii += [ii[-1] + di]\n",
    "    mm += [mm[-1] + dm]\n",
    "    cc += [cc[-1] + dc]\n",
    "plt.plot(ii)\n",
    "plt.plot(mm)\n",
    "plt.plot(cc)\n",
    "plt.show()\n",
    "print(\"M = %.3f, C = %.3f\" % (mm[-1], cc[-1]))"
   ]
  }
 ],
 "metadata": {
  "file_extension": ".py",
  "kernelspec": {
   "display_name": "Python 3",
   "language": "python",
   "name": "python3"
  },
  "language_info": {
   "codemirror_mode": {
    "name": "ipython",
    "version": 3
   },
   "file_extension": ".py",
   "mimetype": "text/x-python",
   "name": "python",
   "nbconvert_exporter": "python",
   "pygments_lexer": "ipython3",
   "version": "3.8.2"
  },
  "mimetype": "text/x-python",
  "name": "python",
  "npconvert_exporter": "python",
  "pygments_lexer": "ipython3",
  "version": 3
 },
 "nbformat": 4,
 "nbformat_minor": 2
}
