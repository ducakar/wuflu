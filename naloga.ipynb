{
 "cells": [
  {
   "cell_type": "markdown",
   "metadata": {},
   "source": [
    "Uporabimo oznake $n_{40}$ za število 40-letnikov v populaciji, $ifr_{40}$ naj\n",
    "bo verjetnost, da 40-letnik umre ob okužbi z virusom in $p$ zaščita pred smrtjo,\n",
    "ki jo zagotavlja cepivo. Potem je\n",
    "\n",
    "- število umrlih necepljenih 40-letnikov:\n",
    "  $$ fu_{40} = 0.75~n_{40} \\cdot ifr_{40} $$\n",
    "- število umrlih cepljenih 40-letnikov:\n",
    "  $$ fv_{40} = 0.25~n_{40} \\cdot ifr_{40} \\cdot (1 - p) $$\n",
    "- število umrlih cepljenih 80-letnikov:\n",
    "  $$ fv_{80} = 0.5~n_{40} \\cdot 120~ifr_{40} \\cdot (1 - p) $$\n",
    "\n",
    "Če je med umrlimi cepljenimi in necepljenimi razmerje 1:1, velja:\n",
    "\n",
    "$$ \\frac{fv_{40} + fv_{80}}{fu_{40}} = 4 $$\n"
   ]
  },
  {
   "cell_type": "markdown",
   "metadata": {},
   "source": [
    "$$   \\frac{0.25 \\cdot (1 - p) + 0.5 \\cdot 100 \\cdot (1 - p)}{0.75} = (1 - p) \\frac{201}{3} = 4 $$\n",
    "$$ p = 1 - \\frac{12}{201} \\approx 94\\% $$"
   ]
  }
 ],
 "metadata": {
  "interpreter": {
   "hash": "767d51c1340bd893661ea55ea3124f6de3c7a262a8b4abca0554b478b1e2ff90"
  },
  "kernelspec": {
   "display_name": "Python 3.9.6 64-bit",
   "name": "python3"
  },
  "language_info": {
   "codemirror_mode": {
    "name": "ipython",
    "version": 3
   },
   "file_extension": ".py",
   "mimetype": "text/x-python",
   "name": "python",
   "nbconvert_exporter": "python",
   "pygments_lexer": "ipython3",
   "version": "3.9.6"
  },
  "orig_nbformat": 4
 },
 "nbformat": 4,
 "nbformat_minor": 2
}
