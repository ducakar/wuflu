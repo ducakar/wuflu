{
 "cells": [
  {
   "cell_type": "markdown",
   "metadata": {},
   "source": [
    "# Modeliranje epidemije covid-19\n",
    "\n",
    "Zvezek za Jupyther in ostali skripti so dostopni na [github.com/ducakar/wuflu](https://github.com/ducakar/wuflu)."
   ]
  },
  {
   "cell_type": "markdown",
   "metadata": {},
   "source": [
    "## Model SIR\n",
    "\n",
    "Za osnovo vzemimo model [SIR](https://en.wikipedia.org/wiki/Compartmental_models_in_epidemiology), ki populacijo ($P$) razdeli na tri razrede:\n",
    "\n",
    "- dovzetne za okužbo ($S$, *susceptible*),\n",
    "- okužene ($I$, *infected*) ter\n",
    "- prebolele ($R$, *recovered*), ki se ne morejo več okužiti.\n",
    "\n",
    "Vsak posameznik se nahaja v natanko enem od teh razredov ($P = S + I + R$) in obstajata konstantni verjetnosti za prehode med temi razredi:\n",
    "\n",
    "- $\\beta$, produkt števila stikov posameznika in verjetnosti, da se posamezni stik okuži, in\n",
    "- $\\gamma$, verjetnost, da okuženi ozdravi.\n",
    "\n",
    "Privzamemo, da imajo vse osebe enako število stikov, ki se skozi čas ne spreminja. Sistem diferencialnih enačb, ki opiše ta sistem, se glasi\n",
    "\n",
    "$$ \\frac{dS}{dt} = -\\beta \\frac{S}{P} I, \\qquad \\frac{dI}{dt} = \\beta \\frac{S}{P} I - \\gamma I, \\qquad \\frac{dR}{dt} = \\gamma I ~. $$\n",
    "\n",
    "Iz zgornjih enačb sledi, da okužbo širijo natanko vsi v razredu $I$. Če se, na primer, okuženi takoj po pojavu simptomov izolirajo in tako prenehajo širiti okužbo, jih moramo uvrstiti v razred $R$. V ta razred štejemo tudi umrle.\n",
    "\n",
    "Recimo, da se posameznik v povprečju nahaja $t_I$ časovnih enot v razredu $I$. Ker je verjetnost, da bo, ta razred zapustil v vsakem trenutku enaka $\\gamma$, gre za eksponentno porazdelitev, zato velja\n",
    "\n",
    "$$ \\gamma = \\frac{1}{t_I} ~. $$\n",
    "\n",
    "Podoben premislek lahko naredimo za $\\beta$. Naj bo $R_0$ začetno reprodukcijsko število, to je število oseb, ki jih okužen posameznik okuži v celotnem obdobju okuženosti, ob predpostavki, da je za okužbo dovzetna celotna populacija, torej $S = P$. Tedaj velja\n",
    "\n",
    "$$ \\beta = \\frac{R_0}{t_I} ~. $$"
   ]
  },
  {
   "cell_type": "markdown",
   "metadata": {},
   "source": [
    "## Model SIHC\n",
    "\n",
    "Model SIR, ki se najpogosteje uporablja, ne zadosti vsem našim potrebam, zato ga bomo v nadaljevanju nekoliko prilagodili.\n",
    "\n",
    "Pomembna podatka, ki jih želimo preučevati sta tudi število ljudi, ki trenutno prebolevajo težji potek bolezni in torej obremenjujo zdravstveni sistem. Še posebej nas pri tem zanimajo kritični, saj moramo vedeti, koliko postelj na enotah intenzivne nege potrebujemo, skupaj s pripadajočo opremo. Razlika je tudi v olžini prebolevanja, saj kritični ponavadi bolezen prebolevajo veliko dlje kot hospitalizirani pacienti z nekoliko manj hudim potekom. V ta namen uvedemo še dva dodatna razreda:\n",
    "\n",
    "- hospitalizirani z nekritičnim potekom ($H$, *hospitalised*) in\n",
    "- hospitalizirani s kritičnim potekom ($C$, *critical*)\n",
    "\n",
    "ter pripadajoče verjetnosti:\n",
    "\n",
    "- $\\delta$, verjetnost, da hospitaliziran z nekritičnim potekom ozdravi ali umre,\n",
    "- $\\epsilon$, verjetnost, da hospitalizirani s kritičnim potekom ozdravi ali umre,\n",
    "- $\\chi$, verjetnost, da je okuženi hospitaliziran, vendar ni kritičen in\n",
    "- $\\kappa$, verjetnost, da je okuženi hospitaliziran in ima kritičen potek bolezni.\n",
    "\n",
    "Označimo povprečno trajanje nekritične hospitalizacije s $t_H$ in kritične s $t_C$. Velja\n",
    "\n",
    "$$ \\delta = \\frac{1}{t_H}, \\qquad \\epsilon = \\frac{1}{t_C} ~. $$\n",
    "\n",
    "Razred $R$ nas posebej ne zanima, zato ga zaenkrat izpustimo. Sistem enačb razširimo\n",
    "\n",
    "$$ \\frac{dS}{dt} = -\\frac{R_0 S}{P} \\frac{I}{t_I}, \\qquad \\frac{dI}{dt} = \\left( \\frac{R_0 S}{P} - 1 \\right) \\frac{I}{t_I}, \\qquad \\frac{dH}{dt} = \\chi \\frac{I}{t_I} - \\frac{H}{t_H}, \\qquad \\frac{dC}{dt} = \\kappa \\frac{I}{t_I} - \\frac{C}{t_C}, $$"
   ]
  },
  {
   "cell_type": "code",
   "execution_count": null,
   "metadata": {},
   "outputs": [],
   "source": [
    "import matplotlib.pyplot as plt\n",
    "\n",
    "plt.rcParams[\"figure.figsize\"] = [9, 6]\n",
    "plt.rcParams[\"figure.dpi\"] = 96\n",
    "\n",
    "class Lockdown:    \n",
    "    def __init__(self, r0, on_threshold, off_threshold):\n",
    "        self.r0 = r0\n",
    "        self.on_threshold = on_threshold\n",
    "        self.off_threshold = off_threshold\n",
    "\n",
    "class SIHC:\n",
    "    P = 1.0\n",
    "    r0 = 1.3\n",
    "    chi = 0.01\n",
    "    kappa = 0.002\n",
    "    t_I = 2.0\n",
    "    t_H = 7.0\n",
    "    t_C = 14.0\n",
    "    \n",
    "    def __init__(self, title):\n",
    "        self.title = title\n",
    "\n",
    "    def evolution(self, infected, immune, lockdown=None):\n",
    "        S = [self.P - immune]\n",
    "        I = [infected]\n",
    "        H = [0.0]\n",
    "        C = [0.0]\n",
    "        r0 = self.r0\n",
    "        \n",
    "        while True:\n",
    "            if lockdown:\n",
    "                if I[-1] / self.P >= lockdown.on_threshold:\n",
    "                    r0 = lockdown.r0\n",
    "                elif I[-1] / self.P < lockdown.off_threshold:\n",
    "                    r0 = self.r0\n",
    "                    \n",
    "            dIn = I[-1] / self.t_I\n",
    "            dIp = r0 * S[-1] / self.P * dIn\n",
    "            dI = dIp - dIn\n",
    "            dH = self.chi * dIn - H[-1] / self.t_H\n",
    "            dC = self.kappa * dIn - C[-1] / self.t_C\n",
    "            \n",
    "            S += [S[-1] - dIp]\n",
    "            I += [I[-1] + dI]\n",
    "            H += [H[-1] + dH]\n",
    "            C += [C[-1] + dC]\n",
    "            \n",
    "            if I[-1] / self.P < 1e-10:\n",
    "                break\n",
    "                \n",
    "        return S, I, H, C\n",
    "\n",
    "    def plot(self, S, I, H, C):\n",
    "        attack = (S[0] - S[-1]) / self.P\n",
    "        R = 1.0 - S[-1] / self.P\n",
    "        all_H = (S[0] - S[-1]) * m.chi\n",
    "        max_H = max(H)\n",
    "        all_C = (S[0] - S[-1]) * m.kappa\n",
    "        max_C = max(C)\n",
    "        \n",
    "        plt.title(self.title)\n",
    "        plt.ylabel(\"populacija\")\n",
    "        plt.xlabel(\"dnevi\")\n",
    "        plt.grid()\n",
    "        plt.plot(I, label=\"kužni\")\n",
    "        plt.plot(H, label=\"resni\")\n",
    "        plt.plot(C, label=\"kritični\", color=[1.0, 0.0, 0.0])\n",
    "        plt.legend()\n",
    "        plt.show()\n",
    "\n",
    "        print(\"prekuženi %.3g%% (novi %.3g%%), resni %0.f (maks %.0f), kritični %.0f (maks %.0f)\" % (R * 100, attack * 100, all_H, max_H, all_C, max_C))"
   ]
  },
  {
   "cell_type": "markdown",
   "metadata": {},
   "source": [
    "## Sezonska gripa"
   ]
  },
  {
   "cell_type": "markdown",
   "metadata": {},
   "source": [
    "Izračun za sezonsko gripo v Sloveniji. Privzete vrednosti v modelu bi načeloma morale biti že približno prave za sezonsko gripo. Kot začetni vrednosti vzamemo 100 kužnih in 18 % prekuženost (cepljeni, imuni od prej)."
   ]
  },
  {
   "cell_type": "code",
   "execution_count": null,
   "metadata": {},
   "outputs": [],
   "source": [
    "m = SIHC(\"Gripa\")\n",
    "m.P = 2_090_000\n",
    "S, I, H, C = m.evolution(100.0, 0.18 * m.P)\n",
    "m.plot(S, I, H, C)"
   ]
  },
  {
   "cell_type": "markdown",
   "metadata": {},
   "source": [
    "## Covid-19"
   ]
  },
  {
   "cell_type": "markdown",
   "metadata": {},
   "source": [
    "Projekcija za covid-19 brez ukrepov."
   ]
  },
  {
   "cell_type": "code",
   "execution_count": null,
   "metadata": {},
   "outputs": [],
   "source": [
    "m = SIHC(\"Covid-19\")\n",
    "m.P = 2_090_000\n",
    "m.r0 = 2.2\n",
    "m.chi = 0.10\n",
    "m.kappa = 0.02\n",
    "m.t_I = 3.0\n",
    "m.t_H = 14.0\n",
    "m.t_C = 35.0\n",
    "S, I, H, C = m.evolution(100.0, 0.0)\n",
    "m.plot(S, I, H, C)"
   ]
  },
  {
   "cell_type": "markdown",
   "metadata": {},
   "source": [
    "Projekcija za covid-19, kjer smo precej previdnejši. Recimo, da se manj družimo, nosimo maske, pridno umivamo roke in nam tako uspe širjenje spraviti na nivo gripe ($R_0 = 1,3$)."
   ]
  },
  {
   "cell_type": "code",
   "execution_count": null,
   "metadata": {},
   "outputs": [],
   "source": [
    "m = SIHC(\"Covid-19\")\n",
    "m.P = 2_090_000\n",
    "m.r0 = 1.3\n",
    "m.chi = 0.10\n",
    "m.kappa = 0.02\n",
    "m.t_I = 3.0\n",
    "m.t_H = 14.0\n",
    "m.t_C = 35.0\n",
    "S, I, H, C = m.evolution(100.0, 0.0)\n",
    "m.plot(S, I, H, C)"
   ]
  },
  {
   "cell_type": "markdown",
   "metadata": {},
   "source": [
    "Zgornji potek za covid-19 nadgradimo z občasnimi karantenami. Vklopijo se, ko število kužnih preseže 1 % in izklopi, ko pade pod 0,1 %. Za obdobje karantene privzamemo $R_0 = 0.6$ (ocena iz UK)."
   ]
  },
  {
   "cell_type": "code",
   "execution_count": null,
   "metadata": {
    "scrolled": false
   },
   "outputs": [],
   "source": [
    "m = SIHC(\"Covid-19\")\n",
    "l = Lockdown(0.6, 0.01, 0.001)\n",
    "m.P = 2_090_000\n",
    "m.r0 = 1.3\n",
    "m.chi = 0.10\n",
    "m.kappa = 0.02\n",
    "m.t_I = 3.0\n",
    "m.t_H = 14.0\n",
    "m.t_C = 35.0\n",
    "S, I, H, C = m.evolution(100.0, 0.00 * m.P, l)\n",
    "m.plot(S, I, H, C)"
   ]
  }
 ],
 "metadata": {
  "file_extension": ".py",
  "kernelspec": {
   "display_name": "Python 3",
   "language": "python",
   "name": "python3"
  },
  "language_info": {
   "codemirror_mode": {
    "name": "ipython",
    "version": 3
   },
   "file_extension": ".py",
   "mimetype": "text/x-python",
   "name": "python",
   "nbconvert_exporter": "python",
   "pygments_lexer": "ipython3",
   "version": "3.8.2"
  },
  "mimetype": "text/x-python",
  "name": "python",
  "npconvert_exporter": "python",
  "pygments_lexer": "ipython3",
  "version": 3
 },
 "nbformat": 4,
 "nbformat_minor": 2
}
